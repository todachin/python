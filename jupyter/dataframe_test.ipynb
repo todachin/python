{
 "cells": [
  {
   "cell_type": "code",
   "execution_count": 2,
   "metadata": {},
   "outputs": [
    {
     "name": "stdout",
     "output_type": "stream",
     "text": [
      "BUY:0\n",
      "SELL:1\n",
      "C\n",
      "102\n",
      "D\n",
      "103\n"
     ]
    }
   ],
   "source": [
    "import pandas as pd\n",
    "import MetaTrader5 as mt5\n",
    "\n",
    "print(\"BUY:{}\".format(mt5.ORDER_TYPE_BUY))\n",
    "print(\"SELL:{}\".format(mt5.ORDER_TYPE_SELL))\n",
    "\n",
    "sdt = \"2023-01-20 10:00:00\"\n",
    "rw0 = {'no':[0,1,2,3],'datetime':[\"A\",\"B\",\"C\",\"D\"],'USDJPY':[100,101,102,103]}\n",
    "df_w = pd.DataFrame(rw0)\n",
    "df_p = df_w.set_index('no') #indexを指定\n",
    "df_n = df_p.query(\"USDJPY > 101\")\n",
    "for index,data in df_p.query(\"USDJPY > 101\").iterrows():\n",
    "    print(data[\"datetime\"])\n",
    "    print(data[\"USDJPY\"])\n"
   ]
  }
 ],
 "metadata": {
  "kernelspec": {
   "display_name": "Python 3",
   "language": "python",
   "name": "python3"
  },
  "language_info": {
   "codemirror_mode": {
    "name": "ipython",
    "version": 3
   },
   "file_extension": ".py",
   "mimetype": "text/x-python",
   "name": "python",
   "nbconvert_exporter": "python",
   "pygments_lexer": "ipython3",
   "version": "3.10.9 (tags/v3.10.9:1dd9be6, Dec  6 2022, 20:01:21) [MSC v.1934 64 bit (AMD64)]"
  },
  "orig_nbformat": 4,
  "vscode": {
   "interpreter": {
    "hash": "e5dda7fd1df0936cf955eaffa8ac188079b089341a7c0e3965783e5730f0ecc2"
   }
  }
 },
 "nbformat": 4,
 "nbformat_minor": 2
}
