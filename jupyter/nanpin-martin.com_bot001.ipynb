{
 "cells": [
  {
   "cell_type": "markdown",
   "id": "bc1a4612-779e-4076-9873-f36d24ac7691",
   "metadata": {},
   "source": [
    "Python用MetaTrader5のインポート"
   ]
  },
  {
   "cell_type": "code",
   "execution_count": null,
   "id": "927a9939-b132-4f13-b326-5a2291a4e1de",
   "metadata": {},
   "outputs": [],
   "source": [
    "import MetaTrader5 as mt5"
   ]
  },
  {
   "cell_type": "markdown",
   "id": "386cd253-1c98-45e6-b91b-7e401908e5dc",
   "metadata": {},
   "source": [
    "ログイン情報を入力"
   ]
  },
  {
   "cell_type": "code",
   "execution_count": null,
   "id": "9584f54a-b412-45f3-b76d-a350ce4287b1",
   "metadata": {},
   "outputs": [],
   "source": [
    "login_ID = 12345678 # ご自身のログインIDを入力\n",
    "login_server = 'XMTrading-MT5' # ご自身のログインサーバーを入力\n",
    "login_password = 'XXXXXXXXX' # ご自身のログインパスワードを入力"
   ]
  },
  {
   "cell_type": "markdown",
   "id": "96d8a689-2ba0-4dc3-baa2-8ae3af5c2844",
   "metadata": {},
   "source": [
    "MT5に接続"
   ]
  },
  {
   "cell_type": "code",
   "execution_count": null,
   "id": "a2cc5c0c-9074-4518-a7d7-2a44772db036",
   "metadata": {},
   "outputs": [],
   "source": [
    "# ログイン情報で指定した取引口座でMetaTrader5に接続\n",
    "if not mt5.initialize(login=login_ID, server=login_server,password=login_password):\n",
    "    print(\"initialize() failed, error code =\",mt5.last_error())\n",
    "    quit()"
   ]
  },
  {
   "cell_type": "markdown",
   "id": "bb719eb1-0122-404f-88cd-b61463ae043f",
   "metadata": {},
   "source": [
    "Input設定"
   ]
  },
  {
   "cell_type": "code",
   "execution_count": null,
   "id": "b701dbab-155d-4035-8666-ba45e030dda7",
   "metadata": {},
   "outputs": [],
   "source": [
    "symbol = 'GOLD' # 取引対象\n",
    "first_lot = 0.01 # 初期ロット \n",
    "nanpin_range = 200 # ナンピン幅 \n",
    "profit_target = 143 # 利益目標 \n",
    "magic_number = 10001 # マジックナンバー \n",
    "slippage = 10 # スリッページ"
   ]
  },
  {
   "cell_type": "markdown",
   "id": "976c1213-0f61-4406-87f1-fcd87641d59c",
   "metadata": {},
   "source": [
    "各種情報取得"
   ]
  },
  {
   "cell_type": "code",
   "execution_count": null,
   "id": "88b7a720-886b-4703-9cb6-cad0b2b28e6d",
   "metadata": {},
   "outputs": [],
   "source": [
    "point=mt5.symbol_info(symbol).point # 価格の最小単位"
   ]
  },
  {
   "cell_type": "markdown",
   "id": "6a274121-6fc3-4137-abe9-fa58a9ac5176",
   "metadata": {},
   "source": [
    "ループ処理"
   ]
  },
  {
   "cell_type": "code",
   "execution_count": null,
   "id": "0a137a39-3d00-49ef-b276-b38fa9a9c0cc",
   "metadata": {},
   "outputs": [],
   "source": [
    "while 1:\n",
    "    \n",
    "    symbol_tick=mt5.symbol_info_tick(symbol) # symbolのtick情報を取得\n",
    "\n",
    "    \n",
    "    #### ポジションの確認###########################################\n",
    "    \n",
    "    buy_position = 0 # buyポジション数の初期化\n",
    "    sell_position = 0 # sellポジション数の初期化\n",
    "    buy_profit = 0 # buy_profitの初期化\n",
    "    sell_profit = 0 # sell_profitの初期化\n",
    "    current_buy_lot = 0 # 最新のbuyポジションのlot数の初期化\n",
    "    current_sell_lot = 0 # 最新のsellポジションのlot数の初期化\n",
    "\n",
    "    positions=mt5.positions_get(group='*'+symbol+'*') # ポジション情報を取得\n",
    "    \n",
    "    for i in range(len(positions)): # 全てのポジションを確認\n",
    "        order_type = positions[i][5] # buyかsellか取得\n",
    "        profit = positions[i][15] # ポジションの含み損益を取得\n",
    "        \n",
    "        if order_type == 0: # buyポジションの場合\n",
    "            buy_position += 1 # buyポジションのカウント\n",
    "            buy_profit += profit # buyポジションの含み損益に加算\n",
    "            current_buy_lot = positions[i][9] # 最新のbuyポジションのlot数を取得\n",
    "            current_buy_price = positions[i][10] # 最新のbuyポジションの取得価格を取得\n",
    "            \n",
    "        if order_type == 1: # sellポジションの場合\n",
    "            sell_position += 1 # sellポジションのカウント\n",
    "            sell_profit += profit # sellポジションの含み損益に加算\n",
    "            current_sell_lot = positions[i][9] # 最新のsellポジションのlot数を取得\n",
    "            current_sell_price = positions[i][10] # 最新のsellポジションの取得価格を取得\n",
    "    \n",
    "    ################################################################\n",
    "    \n",
    "    \n",
    "    #### 新規buyエントリー###########################################\n",
    "    \n",
    "    if buy_position == 0: # buyポジションがない場合\n",
    "\n",
    "        request = {\n",
    "                    'symbol': symbol, # 通貨ペア（取引対象）\n",
    "                    'action': mt5.TRADE_ACTION_DEAL, # 成行注文\n",
    "                    'type': mt5.ORDER_TYPE_BUY, # 成行買い注文\n",
    "                    'volume': first_lot, # ロット数\n",
    "                    'price': symbol_tick.ask, # 注文価格\n",
    "                    'deviation': slippage, # スリッページ\n",
    "                    'comment': 'first_buy', # 注文コメント\n",
    "                    'magic': magic_number, # マジックナンバー\n",
    "                    'type_time': mt5.ORDER_TIME_GTC, # 注文有効期限\n",
    "                    'type_filling': mt5.ORDER_FILLING_IOC, # 注文タイプ\n",
    "                    }\n",
    "\n",
    "        result = mt5.order_send(request)\n",
    "    \n",
    "    ################################################################\n",
    "    \n",
    "    \n",
    "    #### 新規sellエントリー###########################################\n",
    "    \n",
    "    if sell_position == 0: # sellポジションがない場合\n",
    "\n",
    "        request = {\n",
    "                    'symbol': symbol, # 通貨ペア（取引対象）\n",
    "                    'action': mt5.TRADE_ACTION_DEAL, # 成行注文\n",
    "                    'type': mt5.ORDER_TYPE_SELL, # 成行買い注文\n",
    "                    'volume': first_lot, # ロット数\n",
    "                    'price': symbol_tick.bid, # 注文価格\n",
    "                    'deviation': slippage, # スリッページ\n",
    "                    'comment': 'first_sell', # 注文コメント\n",
    "                    'magic': magic_number, # マジックナンバー\n",
    "                    'type_time': mt5.ORDER_TIME_GTC, # 注文有効期限\n",
    "                    'type_filling': mt5.ORDER_FILLING_IOC, # 注文タイプ\n",
    "                    }\n",
    "\n",
    "        result = mt5.order_send(request)\n",
    "\n",
    "    ################################################################\n",
    "    \n",
    "    \n",
    "    #### 追加buyエントリー###########################################\n",
    "    \n",
    "    if buy_position > 0 and symbol_tick.ask < current_buy_price - nanpin_range * point:\n",
    "\n",
    "        request = {\n",
    "                    'symbol': symbol, # 通貨ペア（取引対象）\n",
    "                    'action': mt5.TRADE_ACTION_DEAL, # 成行注文\n",
    "                    'type': mt5.ORDER_TYPE_BUY, # 成行買い注文\n",
    "                    'volume': round(current_buy_lot * 1.5+0.001,2), # ロット数\n",
    "                    'price': symbol_tick.ask, # 注文価格\n",
    "                    'deviation': slippage, # スリッページ\n",
    "                    'comment': 'nanpin_buy', # 注文コメント\n",
    "                    'magic': magic_number, # マジックナンバー\n",
    "                    'type_time': mt5.ORDER_TIME_GTC, # 注文有効期限\n",
    "                    'type_filling': mt5.ORDER_FILLING_IOC, # 注文タイプ\n",
    "                    }\n",
    "\n",
    "        result = mt5.order_send(request)\n",
    "\n",
    "    ##################################################################\n",
    "    \n",
    "    \n",
    "    #### 追加sellエントリー###########################################\n",
    "    \n",
    "    if sell_position > 0 and symbol_tick.bid > current_sell_price + nanpin_range * point:\n",
    "\n",
    "        request = {\n",
    "                    'symbol': symbol, # 通貨ペア（取引対象）\n",
    "                    'action': mt5.TRADE_ACTION_DEAL, # 成行注文\n",
    "                    'type': mt5.ORDER_TYPE_SELL, # 成行売り注文\n",
    "                    'volume': round(current_sell_lot * 1.5+0.001,2), # ロット数\n",
    "                    'price': symbol_tick.bid, # 注文価格\n",
    "                    'deviation': slippage, # スリッページ\n",
    "                    'comment': 'nanpin_sell', # 注文コメント\n",
    "                    'magic': magic_number, # マジックナンバー\n",
    "                    'type_time': mt5.ORDER_TIME_GTC, # 注文有効期限\n",
    "                    'type_filling': mt5.ORDER_FILLING_IOC, # 注文タイプ\n",
    "                    }\n",
    "\n",
    "        result = mt5.order_send(request)\n",
    "\n",
    "    ##################################################################\n",
    "    \n",
    "    \n",
    "    #### buyクローズ##################################################\n",
    "    \n",
    "    if buy_position > 0 and buy_profit > profit_target * buy_position:\n",
    "\n",
    "        for i in range(len(positions)):\n",
    "            ticket=positions[i][0] # チケットナンバーを取得\n",
    "            order_type = positions[i][5] # buyかsellか取得\n",
    "            lot = positions[i][9] # lot数を取得\n",
    "\n",
    "            if order_type == 0: # buyポジションをクローズ\n",
    "                request = {\n",
    "                            'symbol': symbol, # 通貨ペア（取引対象）\n",
    "                            'action': mt5.TRADE_ACTION_DEAL, # 成行注文\n",
    "                            'type': mt5.ORDER_TYPE_SELL, # 成行売り注文\n",
    "                            'volume': lot, # ロット数\n",
    "                            'price': symbol_tick.bid, # 注文価格\n",
    "                            'deviation': slippage, # スリッページ\n",
    "                            'type_time': mt5.ORDER_TIME_GTC, # 注文有効期限\n",
    "                            'type_filling': mt5.ORDER_FILLING_IOC, # 注文タイプ\n",
    "                            'position':ticket # チケットナンバー\n",
    "                            }\n",
    "                result = mt5.order_send(request)\n",
    "\n",
    "    ##################################################################\n",
    "    \n",
    "    \n",
    "    #### sellクローズ#################################################\n",
    "    \n",
    "    if sell_position > 0 and sell_profit > profit_target * sell_position:\n",
    "    \n",
    "        for i in range(len(positions)):\n",
    "            ticket=positions[i][0] # チケットナンバーを取得\n",
    "            order_type = positions[i][5] # buyかsellか取得\n",
    "            lot = positions[i][9] # lot数を取得\n",
    "\n",
    "            if order_type == 1: # sellポジションをクローズ\n",
    "                request = {\n",
    "                            'symbol': symbol, # 通貨ペア（取引対象）\n",
    "                            'action': mt5.TRADE_ACTION_DEAL, # 成行注文\n",
    "                            'type': mt5.ORDER_TYPE_BUY, # 成行買い注文\n",
    "                            'volume': lot, # ロット数\n",
    "                            'price': symbol_tick.ask, # 注文価格\n",
    "                            'deviation': slippage, # スリッページ\n",
    "                            'type_time': mt5.ORDER_TIME_GTC, # 注文有効期限\n",
    "                            'type_filling': mt5.ORDER_FILLING_IOC, # 注文タイプ\n",
    "                            'position':ticket # チケットナンバー\n",
    "                            }\n",
    "                result = mt5.order_send(request)\n",
    "\n",
    "    ##################################################################\n",
    "    "
   ]
  }
 ],
 "metadata": {
  "kernelspec": {
   "display_name": "Python 3",
   "language": "python",
   "name": "python3"
  },
  "language_info": {
   "codemirror_mode": {
    "name": "ipython",
    "version": 3
   },
   "file_extension": ".py",
   "mimetype": "text/x-python",
   "name": "python",
   "nbconvert_exporter": "python",
   "pygments_lexer": "ipython3",
   "version": "3.10.9 (tags/v3.10.9:1dd9be6, Dec  6 2022, 20:01:21) [MSC v.1934 64 bit (AMD64)]"
  },
  "vscode": {
   "interpreter": {
    "hash": "e5dda7fd1df0936cf955eaffa8ac188079b089341a7c0e3965783e5730f0ecc2"
   }
  }
 },
 "nbformat": 4,
 "nbformat_minor": 5
}
