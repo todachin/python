{
  "nbformat": 4,
  "nbformat_minor": 0,
  "metadata": {
    "colab": {
      "provenance": [],
      "authorship_tag": "ABX9TyMDm8J34LoOsrEMxSKpJPiR",
      "include_colab_link": true
    },
    "kernelspec": {
      "name": "python3",
      "display_name": "Python 3"
    },
    "language_info": {
      "name": "python"
    }
  },
  "cells": [
    {
      "cell_type": "markdown",
      "metadata": {
        "id": "view-in-github",
        "colab_type": "text"
      },
      "source": [
        "<a href=\"https://colab.research.google.com/github/todachin/oanda/blob/main/Untitled3.ipynb\" target=\"_parent\"><img src=\"https://colab.research.google.com/assets/colab-badge.svg\" alt=\"Open In Colab\"/></a>"
      ]
    },
    {
      "cell_type": "code",
      "execution_count": null,
      "metadata": {
        "colab": {
          "base_uri": "https://localhost:8080/"
        },
        "id": "MzM9_12E0Gtm",
        "outputId": "1f52af4e-3498-4c41-d714-24087cc4c003"
      },
      "outputs": [
        {
          "output_type": "stream",
          "name": "stdout",
          "text": [
            "   index  usd  gbp  eur\n",
            "1      0  234  567  890\n",
            "2      0  123  456  789\n",
            "3      0  234  567  890\n"
          ]
        }
      ],
      "source": [
        "import pandas as pd\n",
        "dat = {}\n",
        "dat['usd']='123'\n",
        "dat['gbp']='456'\n",
        "dat['eur']='789'\n",
        "df=pd.DataFrame([dat])\n",
        "\n",
        "dat2 = {}\n",
        "dat2['usd']='234'\n",
        "dat2['gbp']='567'\n",
        "dat2['eur']='890'\n",
        "df2=pd.DataFrame([dat2])\n",
        "\n",
        "df3=pd.concat([df,df2,df,df2],axis='index')\n",
        "df4=df3.reset_index()\n",
        "\n",
        "print(df4.loc[1:])\n",
        "\n"
      ]
    }
  ]
}